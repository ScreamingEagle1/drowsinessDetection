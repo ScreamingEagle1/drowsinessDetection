{
 "cells": [
  {
   "cell_type": "code",
   "execution_count": 2,
   "metadata": {},
   "outputs": [
    {
     "name": "stdout",
     "output_type": "stream",
     "text": [
      "enter state of eye: open\n",
      "Collected  0  images\n"
     ]
    }
   ],
   "source": [
    "import cv2\n",
    "\n",
    "def generate_dataset(img, id, img_id,state):\n",
    "    \n",
    "    cv2.imwrite(\"dataset/\"+str(state)+\"/\"+str(id)+\".\"+str(img_id)+\".jpg\", img)\n",
    "state=input('enter state of eye: ')\n",
    "\n",
    "\n",
    "def draw_boundary(img, classifier, scaleFactor, minNeighbors, color, text):\n",
    "\n",
    "    gray_img = cv2.cvtColor(img, cv2.COLOR_BGR2GRAY)\n",
    " \n",
    "    features = classifier.detectMultiScale(gray_img, scaleFactor, minNeighbors)\n",
    "    coords = []\n",
    "  \n",
    "    for (x, y, w, h) in features:\n",
    "        cv2.rectangle(img, (x,y), (x+w, y+h), color, 2)\n",
    "        cv2.putText(img, text, (x, y-4), cv2.FONT_HERSHEY_SIMPLEX, 0.8, color, 1, cv2.LINE_AA)\n",
    "        coords = [x, y, w, h]\n",
    "    return coords\n",
    "\n",
    "\n",
    "def detect(img, faceCascade, img_id):\n",
    "    color = {\"blue\":(255,0,0), \"red\":(0,0,0), \"green\":(0,255,0), \"white\":(255,255,255)}\n",
    "    coords = draw_boundary(img, faceCascade, 1.1, 10, color['blue'], \"Face\")\n",
    "    \n",
    "    cords2=draw_boundary(img, Leye_cascade, 1.1, 10, color['red'],'Leye')\n",
    "    \n",
    "    cords3=draw_boundary(img, Reye_cascade, 1.1, 10, color['red'],'Reye')\n",
    "   \n",
    "    if len(cords2)==4:\n",
    "     \n",
    "        roi_img = img[cords2[1]:cords2[1]+cords2[3], cords2[0]:cords2[0]+cords2[2]]\n",
    "        \n",
    "        eye_id = 'left'\n",
    "     \n",
    "        generate_dataset(roi_img, eye_id, img_id,state)\n",
    "    if len(cords3)==4:\n",
    "\n",
    "        roi_img = img[cords3[1]:cords3[1]+cords3[3], cords3[0]:cords3[0]+cords3[2]]\n",
    "       \n",
    "        eye_id = 'right'\n",
    "        \n",
    "        generate_dataset(roi_img, eye_id, img_id,state)\n",
    "\n",
    "    return img\n",
    "\n",
    "\n",
    "faceCascade = cv2.CascadeClassifier('haar cascade files\\haarcascade_frontalface_alt.xml')\n",
    "\n",
    "Leye_cascade=cv2.CascadeClassifier('haar cascade files\\haarcascade_lefteye_2splits.xml')\n",
    "\n",
    "Reye_cascade=cv2.CascadeClassifier('haar cascade files\\haarcascade_righteye_2splits.xml')\n",
    "\n",
    "video_capture = cv2.VideoCapture(0)\n",
    "\n",
    "img_id = 0\n",
    "\n",
    "\n",
    "while True:\n",
    "    if img_id % 50 == 0:\n",
    "        print(\"Collected \", img_id,\" images\")\n",
    "\n",
    "    _, img = video_capture.read()\n",
    "\n",
    "    img = detect(img, faceCascade, img_id)\n",
    "\n",
    "    cv2.imshow(\"face detection\", img)\n",
    "    img_id += 1\n",
    "    if cv2.waitKey(1) & 0xFF == ord('q'):\n",
    "        break\n",
    "\n",
    "\n",
    "video_capture.release()\n",
    "cv2.destroyAllWindows()\n"
   ]
  },
  {
   "cell_type": "code",
   "execution_count": null,
   "metadata": {},
   "outputs": [],
   "source": []
  }
 ],
 "metadata": {
  "kernelspec": {
   "display_name": "Python 3",
   "language": "python",
   "name": "python3"
  },
  "language_info": {
   "codemirror_mode": {
    "name": "ipython",
    "version": 3
   },
   "file_extension": ".py",
   "mimetype": "text/x-python",
   "name": "python",
   "nbconvert_exporter": "python",
   "pygments_lexer": "ipython3",
   "version": "3.7.3"
  }
 },
 "nbformat": 4,
 "nbformat_minor": 2
}
